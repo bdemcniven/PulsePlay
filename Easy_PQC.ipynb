{
 "cells": [
  {
   "cell_type": "code",
   "execution_count": 221,
   "id": "2c1ba60b-daf1-45bb-9947-ed8c55668c6d",
   "metadata": {},
   "outputs": [],
   "source": [
    "from qiskit import QuantumCircuit, QuantumRegister, transpile, ClassicalRegister\n",
    "from qiskit_aer import QasmSimulator\n",
    "import qiskit_aer\n",
    "import qiskit_aer.primitives\n",
    "from qiskit_aer import Aer\n",
    "from qiskit_aer.primitives import SamplerV2\n",
    "from qiskit_aer.primitives import EstimatorV2\n",
    "from qiskit.quantum_info import Statevector\n",
    "import numpy as np\n",
    "from qiskit_ibm_runtime.fake_provider import FakeValenciaV2\n",
    "from qiskit_aer import AerSimulator\n",
    "from qiskit.visualization import plot_state_qsphere, plot_bloch_multivector\n",
    "from qiskit.visualization import plot_bloch_vector\n",
    "from qiskit_algorithms.gradients import ParamShiftEstimatorGradient, ParamShiftSamplerGradient\n",
    "from qiskit_machine_learning.algorithms.classifiers import NeuralNetworkClassifier\n",
    "from qiskit_machine_learning.neural_networks import EstimatorQNN, SamplerQNN\n",
    "from qiskit_machine_learning.utils.loss_functions import CrossEntropyLoss\n",
    "from qiskit.quantum_info import state_fidelity\n",
    "#import matplotlib as plt\n",
    "import matplotlib.pyplot as plt\n",
    "\n",
    "sim = AerSimulator()\n",
    "sim_statevector = AerSimulator(method='statevector')\n"
   ]
  },
  {
   "cell_type": "code",
   "execution_count": 161,
   "id": "b9398f45-d716-4a87-bdae-71a773c2df68",
   "metadata": {},
   "outputs": [
    {
     "data": {
      "text/html": [
       "<pre style=\"word-wrap: normal;white-space: pre;background: #fff0;line-height: 1.1;font-family: &quot;Courier New&quot;,Courier,monospace\">        ┌───┐┌───────┐     ┌───────┐ ░ ┌─┐   \n",
       "   q_0: ┤ H ├┤ Ry(0) ├──■──┤ Rx(0) ├─░─┤M├───\n",
       "        └───┘└───────┘┌─┴─┐└───────┘ ░ └╥┘┌─┐\n",
       "   q_1: ──────────────┤ X ├──────────░──╫─┤M├\n",
       "                      └───┘          ░  ║ └╥┘\n",
       "meas: 2/════════════════════════════════╩══╩═\n",
       "                                        0  1 </pre>"
      ],
      "text/plain": [
       "        ┌───┐┌───────┐     ┌───────┐ ░ ┌─┐   \n",
       "   q_0: ┤ H ├┤ Ry(0) ├──■──┤ Rx(0) ├─░─┤M├───\n",
       "        └───┘└───────┘┌─┴─┐└───────┘ ░ └╥┘┌─┐\n",
       "   q_1: ──────────────┤ X ├──────────░──╫─┤M├\n",
       "                      └───┘          ░  ║ └╥┘\n",
       "meas: 2/════════════════════════════════╩══╩═\n",
       "                                        0  1 "
      ]
     },
     "execution_count": 161,
     "metadata": {},
     "output_type": "execute_result"
    }
   ],
   "source": [
    "def create_circuit(theta):\n",
    "    circuit = QuantumCircuit(2)\n",
    "    circuit.h(0)\n",
    "    circuit.ry(theta, 0)\n",
    "    circuit.cx(0, 1)  # CNOT gate, where qubit 0 controls qubit 1\n",
    "    circuit.rx(theta, 0)\n",
    "    circuit.measure_all()\n",
    "    return circuit\n",
    "qc=create_circuit(0)\n",
    "qc.draw()"
   ]
  },
  {
   "cell_type": "code",
   "execution_count": 178,
   "id": "56a474a0-4e13-4a50-a9ad-9c192b8bfcd8",
   "metadata": {},
   "outputs": [],
   "source": [
    "def cost_function(theta):\n",
    "    circuit = create_circuit(theta)\n",
    "    circuit.measure_all()  # Measure all qubits\n",
    "\n",
    "    # Use the Aer simulator\n",
    "    backend = Aer.get_backend('aer_simulator') #Aer.get_backend('qasm_simulator')\n",
    "    job = transpile(circuit, backend)\n",
    "    result_run=backend.run(circuit, shots=1024)\n",
    "    result = result_run.result()#.get_counts()\n",
    "\n",
    "    # Get counts and calculate cost (e.g., probability of measuring |1>)\n",
    "    counts = result.get_counts(circuit)\n",
    "    #prob_one = counts.get('0', 0) / 1024  # Probability of measuring |1>\n",
    "   #print(\"Measurement outcomes:\", counts)\n",
    "    prob_00 = counts.get('00 00', 0) / 1024\n",
    "    prob_11 = counts.get('11 11', 0) / 1024\n",
    "    prob_01 = counts.get('01 01', 0) / 1024\n",
    "    prob_10 = counts.get('10 10', 0) / 1024\n",
    "   # print(prob_00,prob_11,prob_01,prob_10)\n",
    "    return prob_11 #+ prob_11 #+ prob_01 + prob_10\n",
    "    #return prob_one\n",
    "#cost_function(np.pi)"
   ]
  },
  {
   "cell_type": "code",
   "execution_count": 179,
   "id": "3642d5a7-c115-4c57-abda-980ede3a55d3",
   "metadata": {},
   "outputs": [
    {
     "name": "stdout",
     "output_type": "stream",
     "text": [
      "0.50390625\n"
     ]
    }
   ],
   "source": [
    "cost = cost_function(np.pi/2)\n",
    "print(cost)"
   ]
  },
  {
   "cell_type": "code",
   "execution_count": 180,
   "id": "cefbb9fd-1a8b-4556-a25d-ae3d3cea9987",
   "metadata": {},
   "outputs": [],
   "source": [
    "class AdamOptimizer:\n",
    "    def __init__(self, lr=0.01, beta1=0.9, beta2=0.999, epsilon=1e-8):\n",
    "        self.lr = lr\n",
    "        self.beta1 = beta1\n",
    "        self.beta2 = beta2\n",
    "        self.epsilon = epsilon\n",
    "        self.m = 0\n",
    "        self.v = 0\n",
    "        self.t = 0\n",
    "\n",
    "    def update(self, theta, grad):\n",
    "        self.t += 1\n",
    "        self.m = self.beta1 * self.m + (1 - self.beta1) * grad\n",
    "        self.v = self.beta2 * self.v + (1 - self.beta2) * (grad ** 2)\n",
    "\n",
    "        m_hat = self.m / (1 - self.beta1 ** self.t)\n",
    "        v_hat = self.v / (1 - self.beta2 ** self.t)\n",
    "\n",
    "        theta -= self.lr * m_hat / (np.sqrt(v_hat) + self.epsilon)\n",
    "        return theta"
   ]
  },
  {
   "cell_type": "code",
   "execution_count": 201,
   "id": "f3ebb9b2-09f9-4c16-b014-285cdaf583a2",
   "metadata": {},
   "outputs": [
    {
     "name": "stdout",
     "output_type": "stream",
     "text": [
      "Epoch 0, Theta: 1.6707962755949228, tol: Theta: -1.6707962755949228 Cost: 0.505859375, Gradient: -0.01953125\n",
      "Epoch 1, Theta: 1.7534092175265032, tol: Theta: -1.7534092175265032 Cost: 0.474609375, Gradient: -0.146484375\n",
      "Epoch 2, Theta: 1.7162432603253517, tol: Theta: -1.7162432603253517 Cost: 0.3974609375, Gradient: 0.390625\n",
      "Epoch 3, Theta: 1.6664777352778464, tol: Theta: -1.6664777352778464 Cost: 0.4072265625, Gradient: 0.166015625\n",
      "Epoch 4, Theta: 1.6280555972713082, tol: Theta: -1.6280555972713082 Cost: 0.44921875, Gradient: -0.029296875\n",
      "Epoch 5, Theta: 1.605570100189502, tol: Theta: -1.605570100189502 Cost: 0.4921875, Gradient: -0.087890625\n",
      "Epoch 6, Theta: 1.5608090992317027, tol: Theta: -1.5608090992317027 Cost: 0.4716796875, Gradient: 0.3125\n",
      "Epoch 7, Theta: 1.5065966674315752, tol: Theta: -1.5065966674315752 Cost: 0.5126953125, Gradient: 0.205078125\n",
      "Epoch 8, Theta: 1.464409034336613, tol: Theta: -1.464409034336613 Cost: 0.5322265625, Gradient: -0.068359375\n",
      "Epoch 9, Theta: 1.4316926668943868, tol: Theta: -1.4316926668943868 Cost: 0.5224609375, Gradient: -0.05859375\n",
      "Epoch 10, Theta: 1.4000441115259161, tol: Theta: -1.4000441115259161 Cost: 0.560546875, Gradient: 0.029296875\n",
      "Epoch 11, Theta: 1.373980642767569, tol: Theta: -1.373980642767569 Cost: 0.5888671875, Gradient: -0.029296875\n",
      "Epoch 12, Theta: 1.3451594689493802, tol: Theta: -1.3451594689493802 Cost: 0.615234375, Gradient: 0.068359375\n",
      "Epoch 13, Theta: 1.3313082347073082, tol: Theta: -1.3313082347073082 Cost: 0.611328125, Gradient: -0.146484375\n",
      "Epoch 14, Theta: 1.3164878407836156, tol: Theta: -1.3164878407836156 Cost: 0.6220703125, Gradient: 0.029296875\n",
      "Epoch 15, Theta: 1.287759230264991, tol: Theta: -1.287759230264991 Cost: 0.61328125, Gradient: 0.21484375\n",
      "Epoch 16, Theta: 1.2386515497631096, tol: Theta: -1.2386515497631096 Cost: 0.6025390625, Gradient: 0.439453125\n",
      "Epoch 17, Theta: 1.2086958780934607, tol: Theta: -1.2086958780934607 Cost: 0.65625, Gradient: -0.21484375\n",
      "Epoch 18, Theta: 1.2105726797971053, tol: Theta: -1.2105726797971053 Cost: 0.689453125, Gradient: -0.478515625\n",
      "Epoch 19, Theta: 1.2174736082344708, tol: Theta: -1.2174736082344708 Cost: 0.6328125, Gradient: -0.09765625\n",
      "Epoch 20, Theta: 1.2242781770437776, tol: Theta: -1.2242781770437776 Cost: 0.6640625, Gradient: -0.009765625\n",
      "Epoch 21, Theta: 1.2214709352957103, tol: Theta: -1.2214709352957103 Cost: 0.654296875, Gradient: 0.166015625\n",
      "Epoch 22, Theta: 1.2126182688641904, tol: Theta: -1.2126182688641904 Cost: 0.634765625, Gradient: 0.1171875\n",
      "Epoch 23, Theta: 1.204555869195321, tol: Theta: -1.204555869195321 Cost: 0.662109375, Gradient: 0.0\n",
      "Epoch 24, Theta: 1.2047558696254101, tol: Theta: -1.2047558696254101 Cost: 0.6708984375, Gradient: -0.13671875\n",
      "Epoch 25, Theta: 1.188929324948582, tol: Theta: -1.188929324948582 Cost: 0.630859375, Gradient: 0.302734375\n",
      "Epoch 26, Theta: 1.169877497591993, tol: Theta: -1.169877497591993 Cost: 0.6669921875, Gradient: 0.087890625\n",
      "Epoch 27, Theta: 1.1766448800532117, tol: Theta: -1.1766448800532117 Cost: 0.6953125, Gradient: -0.458984375\n",
      "Epoch 28, Theta: 1.174551729433989, tol: Theta: -1.174551729433989 Cost: 0.650390625, Gradient: 0.166015625\n",
      "Epoch 29, Theta: 1.1784785503417616, tol: Theta: -1.1784785503417616 Cost: 0.671875, Gradient: -0.1171875\n"
     ]
    }
   ],
   "source": [
    "theta = np.pi/2  # Initial parameter\n",
    "optimizer = AdamOptimizer(lr=0.1)\n",
    "tol=1e-6\n",
    "\n",
    "for epoch in range(30):  # Number of iterations\n",
    "    cost = cost_function(theta)\n",
    "    grad = (cost_function(theta + 1e-5) - cost) / 1e-1  # Numerical gradient approximation\n",
    "    theta = optimizer.update(theta, grad)\n",
    "\n",
    "   # if abs(new_theta - theta) < tolerance:  # Check for convergence\n",
    "     #   print(\"Optimal theta found:\", new_theta)\n",
    "     #   break\n",
    "    if epoch==0:\n",
    "        old_theta=theta\n",
    "    else:\n",
    "        old_theta=theta\n",
    "   # theta = new_theta\n",
    "    print(f\"Epoch {epoch}, Theta: {theta}, tol: Theta: {new_theta-theta} Cost: {cost}, Gradient: {grad}\")"
   ]
  },
  {
   "cell_type": "code",
   "execution_count": 196,
   "id": "00b9e6a5-286a-43d4-a2a0-f066f8ed310a",
   "metadata": {},
   "outputs": [
    {
     "name": "stdout",
     "output_type": "stream",
     "text": [
      "1e-06\n"
     ]
    }
   ],
   "source": []
  },
  {
   "cell_type": "code",
   "execution_count": null,
   "id": "5bfe48f6-db1e-4e81-9df6-dfd8de4f3631",
   "metadata": {},
   "outputs": [],
   "source": []
  },
  {
   "cell_type": "code",
   "execution_count": null,
   "id": "c2e6ecbc-760b-4be6-a56a-8d72816ad8b8",
   "metadata": {},
   "outputs": [],
   "source": []
  },
  {
   "cell_type": "code",
   "execution_count": null,
   "id": "cc4849dc-02e8-433b-a280-25091d1ea2ea",
   "metadata": {},
   "outputs": [],
   "source": []
  },
  {
   "cell_type": "code",
   "execution_count": 124,
   "id": "1195bf69-3fb8-426a-9f87-e4f04a1c8e16",
   "metadata": {},
   "outputs": [
    {
     "name": "stdout",
     "output_type": "stream",
     "text": [
      "Measurement outcomes: {'00 00': 522, '11 11': 502}\n",
      "0.509765625 0.490234375 0.0 0.0\n"
     ]
    }
   ],
   "source": [
    "    circuit = create_circuit(theta)\n",
    "    circuit.measure_all()  # Measure all qubits\n",
    "\n",
    "    # Use the Aer simulator\n",
    "    backend = Aer.get_backend('aer_simulator') #Aer.get_backend('qasm_simulator')\n",
    "    job = transpile(circuit, backend)\n",
    "    result_run=backend.run(circuit, shots=1024)\n",
    "    result = result_run.result()#.get_counts()\n",
    "\n",
    "    # Get counts and calculate cost (e.g., probability of measuring |1>)\n",
    "    counts = result.get_counts(circuit)\n",
    "    #prob_one = counts.get('0', 0) / 1024  # Probability of measuring |1>\n",
    "    print(\"Measurement outcomes:\", counts)\n",
    "    prob_00 = counts.get('00 00', 0) / 1024\n",
    "    prob_11 = counts.get('11 11', 0) / 1024\n",
    "    prob_01 = counts.get('01 01', 0) / 1024\n",
    "    prob_10 = counts.get('10 10', 0) / 1024\n",
    "    #print(prob_00,prob_11,prob_01,prob_10)\n",
    "    #print(counts.get('00', 0) / 1024)\n"
   ]
  },
  {
   "cell_type": "code",
   "execution_count": 208,
   "id": "8046babb-eb6b-4c1e-bcd7-b025aae5649f",
   "metadata": {},
   "outputs": [
    {
     "name": "stdout",
     "output_type": "stream",
     "text": [
      "Optimal theta found: -1.5958106058362087\n",
      "Final params: Epoch 247, Theta: -1.595805119469027, tol: Theta: -5.4863671816729465e-06 Cost: 0.0, Gradient: -0.48828125\n"
     ]
    }
   ],
   "source": [
    "tolerance = 1e-5  # Define tolerance\n",
    "dat=[]\n",
    "for epoch in range(1000):\n",
    "    cost = cost_function(theta)\n",
    "    grad = (cost_function(theta + 1e-3) - cost_function(theta - 1e-3)) / (2 * 1e-3)\n",
    "    new_theta = optimizer.update(theta, grad)\n",
    "\n",
    "    if abs(new_theta - theta) < tolerance:  # Check for convergence\n",
    "        print(\"Optimal theta found:\", new_theta)\n",
    "        print(f\"Final params: Epoch {epoch}, Theta: {theta}, tol: Theta: {new_theta-theta} Cost: {cost}, Gradient: {grad}\")\n",
    "        break\n",
    "    dat.append((epoch,theta, abs(new_theta-theta),cost,grad))\n",
    "    #print(f\"Epoch {epoch}, Theta: {theta}, tol: Theta: {new_theta-theta} Cost: {cost}, Gradient: {grad}\")\n",
    "    theta = new_theta"
   ]
  },
  {
   "cell_type": "code",
   "execution_count": 222,
   "id": "36e23f3d-f8ba-4867-b502-ec5220d658c2",
   "metadata": {},
   "outputs": [
    {
     "data": {
      "text/plain": [
       "[<matplotlib.lines.Line2D at 0x1ce18b91cd0>]"
      ]
     },
     "execution_count": 222,
     "metadata": {},
     "output_type": "execute_result"
    },
    {
     "data": {
      "image/png": "[encoded data removed]",
      "text/plain": [
       "<Figure size 640x480 with 1 Axes>"
      ]
     },
     "metadata": {},
     "output_type": "display_data"
    }
   ],
   "source": []
  },
  {
   "cell_type": "code",
   "execution_count": 247,
   "id": "f6af1a19-b965-48e9-9a24-4e8c1ae1bdf5",
   "metadata": {},
   "outputs": [],
   "source": [
    "epochs=[]\n",
    "thetas=[]\n",
    "costs=[]\n",
    "gradients=[]\n",
    "for i in range(len(dat)):\n",
    "    #print(dat[i][0],dat[i][1],dat[i][3],dat[i][4])\n",
    "    epochs.append(dat[i][0])\n",
    "    thetas.append(dat[i][1])\n",
    "    costs.append(dat[i][3])\n",
    "    gradients.append(dat[i][4])"
   ]
  },
  {
   "cell_type": "code",
   "execution_count": 253,
   "id": "484aee0a-648e-4b3d-a39b-4fe8f36474dd",
   "metadata": {},
   "outputs": [
    {
     "ename": "ValueError",
     "evalue": "x and y must have same first dimension, but have shapes (1,) and (247,)",
     "output_type": "error",
     "traceback": [
      "\u001b[1;31m---------------------------------------------------------------------------\u001b[0m",
      "\u001b[1;31mValueError\u001b[0m                                Traceback (most recent call last)",
      "Cell \u001b[1;32mIn[253], line 1\u001b[0m\n\u001b[1;32m----> 1\u001b[0m \u001b[43mplt\u001b[49m\u001b[38;5;241;43m.\u001b[39;49m\u001b[43mplot\u001b[49m\u001b[43m(\u001b[49m\u001b[43mepoch\u001b[49m\u001b[43m,\u001b[49m\u001b[43mgradients\u001b[49m\u001b[43m)\u001b[49m\n",
      "File \u001b[1;32m~\\anaconda3\\envs\\haiqu_updated\\Lib\\site-packages\\matplotlib\\pyplot.py:3794\u001b[0m, in \u001b[0;36mplot\u001b[1;34m(scalex, scaley, data, *args, **kwargs)\u001b[0m\n\u001b[0;32m   3786\u001b[0m \u001b[38;5;129m@_copy_docstring_and_deprecators\u001b[39m(Axes\u001b[38;5;241m.\u001b[39mplot)\n\u001b[0;32m   3787\u001b[0m \u001b[38;5;28;01mdef\u001b[39;00m \u001b[38;5;21mplot\u001b[39m(\n\u001b[0;32m   3788\u001b[0m     \u001b[38;5;241m*\u001b[39margs: \u001b[38;5;28mfloat\u001b[39m \u001b[38;5;241m|\u001b[39m ArrayLike \u001b[38;5;241m|\u001b[39m \u001b[38;5;28mstr\u001b[39m,\n\u001b[1;32m   (...)\u001b[0m\n\u001b[0;32m   3792\u001b[0m     \u001b[38;5;241m*\u001b[39m\u001b[38;5;241m*\u001b[39mkwargs,\n\u001b[0;32m   3793\u001b[0m ) \u001b[38;5;241m-\u001b[39m\u001b[38;5;241m>\u001b[39m \u001b[38;5;28mlist\u001b[39m[Line2D]:\n\u001b[1;32m-> 3794\u001b[0m     \u001b[38;5;28;01mreturn\u001b[39;00m \u001b[43mgca\u001b[49m\u001b[43m(\u001b[49m\u001b[43m)\u001b[49m\u001b[38;5;241;43m.\u001b[39;49m\u001b[43mplot\u001b[49m\u001b[43m(\u001b[49m\n\u001b[0;32m   3795\u001b[0m \u001b[43m        \u001b[49m\u001b[38;5;241;43m*\u001b[39;49m\u001b[43margs\u001b[49m\u001b[43m,\u001b[49m\n\u001b[0;32m   3796\u001b[0m \u001b[43m        \u001b[49m\u001b[43mscalex\u001b[49m\u001b[38;5;241;43m=\u001b[39;49m\u001b[43mscalex\u001b[49m\u001b[43m,\u001b[49m\n\u001b[0;32m   3797\u001b[0m \u001b[43m        \u001b[49m\u001b[43mscaley\u001b[49m\u001b[38;5;241;43m=\u001b[39;49m\u001b[43mscaley\u001b[49m\u001b[43m,\u001b[49m\n\u001b[0;32m   3798\u001b[0m \u001b[43m        \u001b[49m\u001b[38;5;241;43m*\u001b[39;49m\u001b[38;5;241;43m*\u001b[39;49m\u001b[43m(\u001b[49m\u001b[43m{\u001b[49m\u001b[38;5;124;43m\"\u001b[39;49m\u001b[38;5;124;43mdata\u001b[39;49m\u001b[38;5;124;43m\"\u001b[39;49m\u001b[43m:\u001b[49m\u001b[43m \u001b[49m\u001b[43mdata\u001b[49m\u001b[43m}\u001b[49m\u001b[43m \u001b[49m\u001b[38;5;28;43;01mif\u001b[39;49;00m\u001b[43m \u001b[49m\u001b[43mdata\u001b[49m\u001b[43m \u001b[49m\u001b[38;5;129;43;01mis\u001b[39;49;00m\u001b[43m \u001b[49m\u001b[38;5;129;43;01mnot\u001b[39;49;00m\u001b[43m \u001b[49m\u001b[38;5;28;43;01mNone\u001b[39;49;00m\u001b[43m \u001b[49m\u001b[38;5;28;43;01melse\u001b[39;49;00m\u001b[43m \u001b[49m\u001b[43m{\u001b[49m\u001b[43m}\u001b[49m\u001b[43m)\u001b[49m\u001b[43m,\u001b[49m\n\u001b[0;32m   3799\u001b[0m \u001b[43m        \u001b[49m\u001b[38;5;241;43m*\u001b[39;49m\u001b[38;5;241;43m*\u001b[39;49m\u001b[43mkwargs\u001b[49m\u001b[43m,\u001b[49m\n\u001b[0;32m   3800\u001b[0m \u001b[43m    \u001b[49m\u001b[43m)\u001b[49m\n",
      "File \u001b[1;32m~\\anaconda3\\envs\\haiqu_updated\\Lib\\site-packages\\matplotlib\\axes\\_axes.py:1779\u001b[0m, in \u001b[0;36mAxes.plot\u001b[1;34m(self, scalex, scaley, data, *args, **kwargs)\u001b[0m\n\u001b[0;32m   1536\u001b[0m \u001b[38;5;250m\u001b[39m\u001b[38;5;124;03m\"\"\"\u001b[39;00m\n\u001b[0;32m   1537\u001b[0m \u001b[38;5;124;03mPlot y versus x as lines and/or markers.\u001b[39;00m\n\u001b[0;32m   1538\u001b[0m \n\u001b[1;32m   (...)\u001b[0m\n\u001b[0;32m   1776\u001b[0m \u001b[38;5;124;03m(``'green'``) or hex strings (``'#008000'``).\u001b[39;00m\n\u001b[0;32m   1777\u001b[0m \u001b[38;5;124;03m\"\"\"\u001b[39;00m\n\u001b[0;32m   1778\u001b[0m kwargs \u001b[38;5;241m=\u001b[39m cbook\u001b[38;5;241m.\u001b[39mnormalize_kwargs(kwargs, mlines\u001b[38;5;241m.\u001b[39mLine2D)\n\u001b[1;32m-> 1779\u001b[0m lines \u001b[38;5;241m=\u001b[39m [\u001b[38;5;241m*\u001b[39m\u001b[38;5;28mself\u001b[39m\u001b[38;5;241m.\u001b[39m_get_lines(\u001b[38;5;28mself\u001b[39m, \u001b[38;5;241m*\u001b[39margs, data\u001b[38;5;241m=\u001b[39mdata, \u001b[38;5;241m*\u001b[39m\u001b[38;5;241m*\u001b[39mkwargs)]\n\u001b[0;32m   1780\u001b[0m \u001b[38;5;28;01mfor\u001b[39;00m line \u001b[38;5;129;01min\u001b[39;00m lines:\n\u001b[0;32m   1781\u001b[0m     \u001b[38;5;28mself\u001b[39m\u001b[38;5;241m.\u001b[39madd_line(line)\n",
      "File \u001b[1;32m~\\anaconda3\\envs\\haiqu_updated\\Lib\\site-packages\\matplotlib\\axes\\_base.py:296\u001b[0m, in \u001b[0;36m_process_plot_var_args.__call__\u001b[1;34m(self, axes, data, *args, **kwargs)\u001b[0m\n\u001b[0;32m    294\u001b[0m     this \u001b[38;5;241m+\u001b[39m\u001b[38;5;241m=\u001b[39m args[\u001b[38;5;241m0\u001b[39m],\n\u001b[0;32m    295\u001b[0m     args \u001b[38;5;241m=\u001b[39m args[\u001b[38;5;241m1\u001b[39m:]\n\u001b[1;32m--> 296\u001b[0m \u001b[38;5;28;01myield from\u001b[39;00m \u001b[38;5;28;43mself\u001b[39;49m\u001b[38;5;241;43m.\u001b[39;49m\u001b[43m_plot_args\u001b[49m\u001b[43m(\u001b[49m\n\u001b[0;32m    297\u001b[0m \u001b[43m    \u001b[49m\u001b[43maxes\u001b[49m\u001b[43m,\u001b[49m\u001b[43m \u001b[49m\u001b[43mthis\u001b[49m\u001b[43m,\u001b[49m\u001b[43m \u001b[49m\u001b[43mkwargs\u001b[49m\u001b[43m,\u001b[49m\u001b[43m \u001b[49m\u001b[43mambiguous_fmt_datakey\u001b[49m\u001b[38;5;241;43m=\u001b[39;49m\u001b[43mambiguous_fmt_datakey\u001b[49m\u001b[43m)\u001b[49m\n",
      "File \u001b[1;32m~\\anaconda3\\envs\\haiqu_updated\\Lib\\site-packages\\matplotlib\\axes\\_base.py:486\u001b[0m, in \u001b[0;36m_process_plot_var_args._plot_args\u001b[1;34m(self, axes, tup, kwargs, return_kwargs, ambiguous_fmt_datakey)\u001b[0m\n\u001b[0;32m    483\u001b[0m     axes\u001b[38;5;241m.\u001b[39myaxis\u001b[38;5;241m.\u001b[39mupdate_units(y)\n\u001b[0;32m    485\u001b[0m \u001b[38;5;28;01mif\u001b[39;00m x\u001b[38;5;241m.\u001b[39mshape[\u001b[38;5;241m0\u001b[39m] \u001b[38;5;241m!=\u001b[39m y\u001b[38;5;241m.\u001b[39mshape[\u001b[38;5;241m0\u001b[39m]:\n\u001b[1;32m--> 486\u001b[0m     \u001b[38;5;28;01mraise\u001b[39;00m \u001b[38;5;167;01mValueError\u001b[39;00m(\u001b[38;5;124mf\u001b[39m\u001b[38;5;124m\"\u001b[39m\u001b[38;5;124mx and y must have same first dimension, but \u001b[39m\u001b[38;5;124m\"\u001b[39m\n\u001b[0;32m    487\u001b[0m                      \u001b[38;5;124mf\u001b[39m\u001b[38;5;124m\"\u001b[39m\u001b[38;5;124mhave shapes \u001b[39m\u001b[38;5;132;01m{\u001b[39;00mx\u001b[38;5;241m.\u001b[39mshape\u001b[38;5;132;01m}\u001b[39;00m\u001b[38;5;124m and \u001b[39m\u001b[38;5;132;01m{\u001b[39;00my\u001b[38;5;241m.\u001b[39mshape\u001b[38;5;132;01m}\u001b[39;00m\u001b[38;5;124m\"\u001b[39m)\n\u001b[0;32m    488\u001b[0m \u001b[38;5;28;01mif\u001b[39;00m x\u001b[38;5;241m.\u001b[39mndim \u001b[38;5;241m>\u001b[39m \u001b[38;5;241m2\u001b[39m \u001b[38;5;129;01mor\u001b[39;00m y\u001b[38;5;241m.\u001b[39mndim \u001b[38;5;241m>\u001b[39m \u001b[38;5;241m2\u001b[39m:\n\u001b[0;32m    489\u001b[0m     \u001b[38;5;28;01mraise\u001b[39;00m \u001b[38;5;167;01mValueError\u001b[39;00m(\u001b[38;5;124mf\u001b[39m\u001b[38;5;124m\"\u001b[39m\u001b[38;5;124mx and y can be no greater than 2D, but have \u001b[39m\u001b[38;5;124m\"\u001b[39m\n\u001b[0;32m    490\u001b[0m                      \u001b[38;5;124mf\u001b[39m\u001b[38;5;124m\"\u001b[39m\u001b[38;5;124mshapes \u001b[39m\u001b[38;5;132;01m{\u001b[39;00mx\u001b[38;5;241m.\u001b[39mshape\u001b[38;5;132;01m}\u001b[39;00m\u001b[38;5;124m and \u001b[39m\u001b[38;5;132;01m{\u001b[39;00my\u001b[38;5;241m.\u001b[39mshape\u001b[38;5;132;01m}\u001b[39;00m\u001b[38;5;124m\"\u001b[39m)\n",
      "\u001b[1;31mValueError\u001b[0m: x and y must have same first dimension, but have shapes (1,) and (247,)"
     ]
    },
    {
     "data": {
      "image/png": "[encoded data removed]",
      "text/plain": [
       "<Figure size 640x480 with 1 Axes>"
      ]
     },
     "metadata": {},
     "output_type": "display_data"
    }
   ],
   "source": [
    "plt.plot(epoch,gradients)"
   ]
  },
  {
   "cell_type": "code",
   "execution_count": null,
   "id": "f1608279-8cdd-4ae1-a252-3693e896d4b0",
   "metadata": {},
   "outputs": [],
   "source": []
  }
 ],
 "metadata": {
  "kernelspec": {
   "display_name": "Python 3 (ipykernel)",
   "language": "python",
   "name": "python3"
  },
  "language_info": {
   "codemirror_mode": {
    "name": "ipython",
    "version": 3
   },
   "file_extension": ".py",
   "mimetype": "text/x-python",
   "name": "python",
   "nbconvert_exporter": "python",
   "pygments_lexer": "ipython3",
   "version": "3.12.5"
  }
 },
 "nbformat": 4,
 "nbformat_minor": 5
}
