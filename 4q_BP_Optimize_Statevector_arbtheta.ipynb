{
 "cells": [
  {
   "cell_type": "code",
   "execution_count": 1,
   "id": "3067aec4-ffbc-44a8-b18a-6479852929ae",
   "metadata": {},
   "outputs": [
    {
     "name": "stdout",
     "output_type": "stream",
     "text": [
      "[1.941490021613417, 5.118130836594284, 4.002024542724455]\n"
     ]
    }
   ],
   "source": [
    "from qiskit import QuantumCircuit, QuantumRegister, transpile, ClassicalRegister, result\n",
    "from qiskit_aer import QasmSimulator\n",
    "import qiskit_aer\n",
    "import qiskit_aer.primitives\n",
    "from qiskit_aer import Aer\n",
    "from qiskit_aer.primitives import SamplerV2\n",
    "from qiskit_aer.primitives import EstimatorV2\n",
    "from qiskit.quantum_info import Statevector\n",
    "import numpy as np\n",
    "from qiskit_ibm_runtime.fake_provider import FakeValenciaV2\n",
    "from qiskit_aer import AerSimulator\n",
    "from qiskit.visualization import plot_state_qsphere, plot_bloch_multivector\n",
    "from qiskit.visualization import plot_bloch_vector\n",
    "from qiskit_algorithms.gradients import ParamShiftEstimatorGradient, ParamShiftSamplerGradient\n",
    "from qiskit_machine_learning.algorithms.classifiers import NeuralNetworkClassifier\n",
    "from qiskit_machine_learning.neural_networks import EstimatorQNN, SamplerQNN\n",
    "from qiskit_machine_learning.utils.loss_functions import CrossEntropyLoss\n",
    "from qiskit.quantum_info import state_fidelity\n",
    "import matplotlib.pyplot as plt\n",
    "from qiskit_algorithms.optimizers import ADAM, SPSA\n",
    "import random\n",
    "\n",
    "des_theta = [random.uniform(0, 2 * np.pi),random.uniform(0, 2 * np.pi),random.uniform(0, 2 * np.pi)]\n",
    "print(des_theta)\n",
    "\n",
    "sim = AerSimulator()\n",
    "sim_statevector = AerSimulator(method='statevector')"
   ]
  },
  {
   "cell_type": "code",
   "execution_count": 2,
   "id": "ae1e0361-0537-49b2-81f6-f154db1900c2",
   "metadata": {},
   "outputs": [
    {
     "data": {
      "text/html": [
       "<pre style=\"word-wrap: normal;white-space: pre;background: #fff0;line-height: 1.1;font-family: &quot;Courier New&quot;,Courier,monospace\">     ┌───┐     ┌────────────┐┌───┐┌───┐              ┌───┐┌───────────┐»\n",
       "q_0: ┤ H ├──■──┤ Rx(1.9415) ├┤ Y ├┤ Y ├──────────────┤ Y ├┤ Ry(4.002) ├»\n",
       "     └───┘┌─┴─┐└────────────┘└─┬─┘└─┬─┘              └─┬─┘└───┬───┬───┘»\n",
       "q_1: ─────┤ X ├────────────────■────┼──────────────────┼──────┤ Y ├────»\n",
       "          └───┘                     │  ┌────────────┐  │      └─┬─┘    »\n",
       "q_2: ───────────────────────────────■──┤ Rx(5.1181) ├──┼────────┼──────»\n",
       "                                       └────────────┘  │        │      »\n",
       "q_3: ──────────────────────────────────────────────────■────────■──────»\n",
       "                                                                       »\n",
       "«                                              \n",
       "«q_0: ─────────────────────────────────────────\n",
       "«                   ┌────────────┐┌───────────┐\n",
       "«q_1: ──────■───────┤ Ry(5.1181) ├┤ Rz(4.002) ├\n",
       "«         ┌─┴─┐     └────────────┘└───────────┘\n",
       "«q_2: ────┤ X ├────────────────────────────────\n",
       "«     ┌───┴───┴────┐                           \n",
       "«q_3: ┤ Rz(1.9415) ├───────────────────────────\n",
       "«     └────────────┘                           </pre>"
      ],
      "text/plain": [
       "     ┌───┐     ┌────────────┐┌───┐┌───┐              ┌───┐┌───────────┐»\n",
       "q_0: ┤ H ├──■──┤ Rx(1.9415) ├┤ Y ├┤ Y ├──────────────┤ Y ├┤ Ry(4.002) ├»\n",
       "     └───┘┌─┴─┐└────────────┘└─┬─┘└─┬─┘              └─┬─┘└───┬───┬───┘»\n",
       "q_1: ─────┤ X ├────────────────■────┼──────────────────┼──────┤ Y ├────»\n",
       "          └───┘                     │  ┌────────────┐  │      └─┬─┘    »\n",
       "q_2: ───────────────────────────────■──┤ Rx(5.1181) ├──┼────────┼──────»\n",
       "                                       └────────────┘  │        │      »\n",
       "q_3: ──────────────────────────────────────────────────■────────■──────»\n",
       "                                                                       »\n",
       "«                                              \n",
       "«q_0: ─────────────────────────────────────────\n",
       "«                   ┌────────────┐┌───────────┐\n",
       "«q_1: ──────■───────┤ Ry(5.1181) ├┤ Rz(4.002) ├\n",
       "«         ┌─┴─┐     └────────────┘└───────────┘\n",
       "«q_2: ────┤ X ├────────────────────────────────\n",
       "«     ┌───┴───┴────┐                           \n",
       "«q_3: ┤ Rz(1.9415) ├───────────────────────────\n",
       "«     └────────────┘                           "
      ]
     },
     "execution_count": 2,
     "metadata": {},
     "output_type": "execute_result"
    }
   ],
   "source": [
    "def create_circuit(theta1,theta2,theta3):\n",
    "    #theta_init=des_theta\n",
    "    circuit = QuantumCircuit(4)\n",
    "    circuit.h(0)\n",
    "    circuit.cx(0,1)\n",
    "    circuit.rx(theta1,0)\n",
    "    circuit.cy(1,0)\n",
    "    circuit.cy(2,0)\n",
    "    circuit.rx(theta2,2)\n",
    "    circuit.cy(3,0)\n",
    "    circuit.ry(theta3,0)\n",
    "    circuit.cy(3,1)\n",
    "    circuit.cx(1,2)\n",
    "    circuit.ry(theta2,1)\n",
    "    circuit.rz(theta1,3)\n",
    "    circuit.rz(theta3,1)\n",
    "    return circuit\n",
    "qc=create_circuit(des_theta[0],des_theta[1],des_theta[2])\n",
    "qc.draw()"
   ]
  },
  {
   "cell_type": "code",
   "execution_count": 3,
   "id": "2e769418-1a17-41b2-adbf-97adcb75505e",
   "metadata": {},
   "outputs": [
    {
     "name": "stdout",
     "output_type": "stream",
     "text": [
      "Statevector([ 0.1995201 -0.17819057j, -0.34144869-0.15602339j,\n",
      "              0.4178616 -0.25077923j,  0.19174934-0.11507818j,\n",
      "              0.48032669+0.08236995j,  0.22041347+0.03779812j,\n",
      "             -0.25051964-0.09380863j,  0.26173487-0.26911962j,\n",
      "              0.        +0.j        ,  0.        +0.j        ,\n",
      "              0.        +0.j        ,  0.        +0.j        ,\n",
      "              0.        +0.j        ,  0.        +0.j        ,\n",
      "              0.        +0.j        ,  0.        +0.j        ],\n",
      "            dims=(2, 2, 2, 2))\n"
     ]
    }
   ],
   "source": [
    "def target_state(theta1,theta2,theta3):\n",
    "    #des_theta2=theta1,theta2,theta3\n",
    "    circuit = create_circuit(theta1,theta2,theta3)\n",
    "    #print(circuit)\n",
    "    backend = Aer.get_backend('aer_simulator')\n",
    "    circuit.save_statevector()\n",
    "    circuit.measure_all()\n",
    "    job = transpile(circuit, backend)\n",
    "    #print(job)\n",
    "    result = backend.run(job).result()\n",
    "    state=result.get_statevector()\n",
    "    \n",
    "    output_state = result.get_statevector(job)\n",
    "    return output_state\n",
    "    \n",
    "des_state=target_state(des_theta[0],des_theta[1],des_theta[2])\n",
    "print(des_state)"
   ]
  },
  {
   "cell_type": "code",
   "execution_count": 4,
   "id": "e8f61f87-86e2-4b54-a64b-a4d403e642cf",
   "metadata": {},
   "outputs": [],
   "source": [
    "def fidelity(theta1,theta2,theta3):\n",
    "    output_state = target_state(theta1,theta2,theta3)\n",
    "    #print(output_state)\n",
    "    return state_fidelity(output_state,des_state)"
   ]
  },
  {
   "cell_type": "code",
   "execution_count": 5,
   "id": "eb47cc7d-d357-41d7-bed2-06137e880df1",
   "metadata": {},
   "outputs": [],
   "source": [
    "class AdamOptimizer:\n",
    "    def __init__(self, lr=0.01, beta1=0.9, beta2=0.999, epsilon=1e-5):\n",
    "        self.lr = lr\n",
    "        self.beta1 = beta1\n",
    "        self.beta2 = beta2\n",
    "        self.epsilon = epsilon\n",
    "        self.m = 0\n",
    "        self.v = 0\n",
    "        self.t = 0\n",
    "\n",
    "    def update(self, theta, grad):\n",
    "        self.t += 1\n",
    "        self.m = self.beta1 * self.m + (1 - self.beta1) * grad\n",
    "        self.v = self.beta2 * self.v + (1 - self.beta2) * (grad ** 2)\n",
    "\n",
    "        m_hat = self.m / (1 - self.beta1 ** self.t)\n",
    "        v_hat = self.v / (1 - self.beta2 ** self.t)\n",
    "\n",
    "        theta -= self.lr * m_hat / (np.sqrt(v_hat) + self.epsilon)\n",
    "        return theta"
   ]
  },
  {
   "cell_type": "code",
   "execution_count": 6,
   "id": "5bf90fc3-20fb-40f2-9c70-cbf4f282114f",
   "metadata": {},
   "outputs": [],
   "source": [
    "tolerance = 1e-4  # Define tolerance\n",
    "optimizer = AdamOptimizer(lr=0.01)"
   ]
  },
  {
   "cell_type": "code",
   "execution_count": 8,
   "id": "ca05a5a7-6048-4505-8335-7cc7d7ede390",
   "metadata": {},
   "outputs": [
    {
     "name": "stdout",
     "output_type": "stream",
     "text": [
      "[0, 0, 0]\n",
      "0.13491709772787275\n"
     ]
    }
   ],
   "source": [
    "temp_m1=1.1\n",
    "dat=[]\n",
    "#theta = [random.uniform(0, 2 * np.pi),random.uniform(0, 2 * np.pi),random.uniform(0, 2 * np.pi)]\n",
    "theta=[0,0,0]\n",
    "print(theta)\n",
    "init_fid=fidelity(theta[0],theta[1],theta[2])\n",
    "target=des_state\n",
    "print(init_fid)\n",
    "for epoch in range(300):\n",
    "    grad = (-fidelity(theta[0] + 1e-5,theta[1] + 1e-5,theta[2] + 1e-5) + fidelity(theta[0] - 1e-5,theta[1] - 1e-5,theta[2] - 1e-5)) / (2 * 1e-5)\n",
    "    #print(optimizer.update(thet, grad))\n",
    "    temp=fidelity(theta[0],theta[1],theta[2])\n",
    "    new_theta = optimizer.update(theta, grad)\n",
    "    if abs(new_theta[0] - theta[0]) < tolerance and abs(new_theta[1] - theta[1]) < tolerance and abs(new_theta[2] - theta[2]) < tolerance:\n",
    "        if abs(temp_m1 - temp) < tolerance: #and abs(new_theta[1] - theta[1]) < tolerance and abs(new_theta[2] - theta[2]) < tolerance:\n",
    "            print(\"Optimal theta found: \", new_theta, \"Fidelity: \", temp)\n",
    "            break #### PROB SHOULD BREAK FOR FID MAX @1\n",
    "    #print(temp)\n",
    "    dat.append((epoch,theta[0], theta[1], theta[2], temp,grad))\n",
    "    theta=new_theta\n",
    "    temp_m1=grad"
   ]
  },
  {
   "cell_type": "code",
   "execution_count": 9,
   "id": "865d52a4-67a4-4d63-9c6b-e38bbb2f5f14",
   "metadata": {},
   "outputs": [
    {
     "name": "stdout",
     "output_type": "stream",
     "text": [
      "(np.float64(0.7356478742319028), np.float64(0.7356478742319028), np.float64(0.7356478742319028))\n"
     ]
    }
   ],
   "source": [
    "epochs=[]\n",
    "thetas0=[]\n",
    "thetas1=[]\n",
    "thetas2=[]\n",
    "newthetas=[]\n",
    "fid=[]\n",
    "gradients=[]\n",
    "for i in range(len(dat)):\n",
    "    #print(dat[i][0],dat[i][1],dat[i][3],dat[i][4])\n",
    "    epochs.append(dat[i][0])\n",
    "    thetas0.append(dat[i][1])\n",
    "    thetas1.append(dat[i][2])\n",
    "    thetas2.append(dat[i][3])\n",
    "   # newthetas.append(dat[i][2])\n",
    "    fid.append(dat[i][4])\n",
    "    gradients.append(dat[i][5])\n",
    "finalthet=thetas0[len(dat)-1],thetas1[len(dat)-1],thetas2[len(dat)-1]\n",
    "print(finalthet)"
   ]
  },
  {
   "cell_type": "code",
   "execution_count": 10,
   "id": "117e48dd-c494-4595-9b1e-e3b36a7abf50",
   "metadata": {},
   "outputs": [
    {
     "data": {
      "image/png": "[encoded data removed]",
      "text/plain": [
       "<Figure size 640x480 with 4 Axes>"
      ]
     },
     "metadata": {},
     "output_type": "display_data"
    },
    {
     "data": {
      "image/png": "[encoded data removed]",
      "text/plain": [
       "<Figure size 640x480 with 1 Axes>"
      ]
     },
     "metadata": {},
     "output_type": "display_data"
    },
    {
     "name": "stdout",
     "output_type": "stream",
     "text": [
      "desired state: Statevector([ 0.1995201 -0.17819057j, -0.34144869-0.15602339j,\n",
      "              0.4178616 -0.25077923j,  0.19174934-0.11507818j,\n",
      "              0.48032669+0.08236995j,  0.22041347+0.03779812j,\n",
      "             -0.25051964-0.09380863j,  0.26173487-0.26911962j,\n",
      "              0.        +0.j        ,  0.        +0.j        ,\n",
      "              0.        +0.j        ,  0.        +0.j        ,\n",
      "              0.        +0.j        ,  0.        +0.j        ,\n",
      "              0.        +0.j        ,  0.        +0.j        ],\n",
      "            dims=(2, 2, 2, 2)) desired theta:  [1.941490021613417, 5.118130836594284, 4.002024542724455]\n",
      "converged state: Statevector([ 5.01949213e-01-0.36290426j,  5.78599740e-02-0.28962964j,\n",
      "             -5.20417043e-17+0.0613559j ,  0.00000000e+00-0.15921632j,\n",
      "              4.54890239e-02-0.04117395j, -1.18042366e-01+0.10684492j,\n",
      "             -6.77860501e-02-0.61567651j,  1.75902340e-01-0.23725824j,\n",
      "              0.00000000e+00+0.j        ,  0.00000000e+00+0.j        ,\n",
      "              0.00000000e+00+0.j        ,  0.00000000e+00+0.j        ,\n",
      "              0.00000000e+00+0.j        ,  0.00000000e+00+0.j        ,\n",
      "              0.00000000e+00+0.j        ,  0.00000000e+00+0.j        ],\n",
      "            dims=(2, 2, 2, 2)) converged theta:  0.7356478742319028 0.7356478742319028 0.7356478742319028\n"
     ]
    }
   ],
   "source": [
    "plt.subplot(1, 5, 1)\n",
    "plt.plot(fid,thetas0, '.-')\n",
    "plt.title('Theta0')\n",
    "#plt.ylabel('Theta')\n",
    "plt.xlabel('Fidelity')\n",
    "plt.axhline(y=des_theta[0], color='r', linestyle='-')\n",
    "ax = plt.gca()\n",
    "ax.set_xlim([0, 1.01])\n",
    "\n",
    "plt.subplot(1, 5, 2)\n",
    "plt.plot(fid,thetas1, '.-')\n",
    "plt.title('Theta1')\n",
    "plt.xlabel('Fidelity')\n",
    "plt.axhline(y=des_theta[1], color='r', linestyle='-')\n",
    "ax = plt.gca()\n",
    "ax.set_xlim([0, 1.01])\n",
    "\n",
    "plt.subplot(1, 5, 3)\n",
    "plt.plot(fid,thetas2, '.-')\n",
    "plt.title('Theta2')\n",
    "plt.xlabel('Fidelity')\n",
    "plt.axhline(y=des_theta[2], color='r', linestyle='-')\n",
    "ax = plt.gca()\n",
    "ax.set_xlim([0, 1.])\n",
    "\n",
    "plt.subplot(1, 5, 4)\n",
    "plt.plot(epochs,gradients, '-')\n",
    "plt.title('Gradient')\n",
    "plt.xlabel('Epoch')\n",
    "#plt.ylabel('Epoch')\n",
    "#ax = plt.gca()\n",
    "#ax.set_ylim([-1e-10, 1e-10])\n",
    "plt.show()\n",
    "\n",
    "plt.subplot(1, 5, 5)\n",
    "plt.plot(epochs,fid, '-')\n",
    "plt.title('Fidelity')\n",
    "plt.xlabel('Epoch')\n",
    "#plt.ylabel('Epoch')\n",
    "#ax = plt.gca()\n",
    "#ax.set_ylim([-1e-10, 1e-10])\n",
    "plt.show()\n",
    "\n",
    "print('desired state:', des_state, 'desired theta: ',des_theta)\n",
    "print('converged state:', target_state(finalthet[0],finalthet[1],finalthet[2]), 'converged theta: ',finalthet[0],finalthet[1],finalthet[2])"
   ]
  },
  {
   "cell_type": "code",
   "execution_count": null,
   "id": "30588821-bbb6-49a1-8cdf-1c1f54b8f5b8",
   "metadata": {},
   "outputs": [],
   "source": []
  }
 ],
 "metadata": {
  "kernelspec": {
   "display_name": "Python 3 (ipykernel)",
   "language": "python",
   "name": "python3"
  },
  "language_info": {
   "codemirror_mode": {
    "name": "ipython",
    "version": 3
   },
   "file_extension": ".py",
   "mimetype": "text/x-python",
   "name": "python",
   "nbconvert_exporter": "python",
   "pygments_lexer": "ipython3",
   "version": "3.12.5"
  }
 },
 "nbformat": 4,
 "nbformat_minor": 5
}
